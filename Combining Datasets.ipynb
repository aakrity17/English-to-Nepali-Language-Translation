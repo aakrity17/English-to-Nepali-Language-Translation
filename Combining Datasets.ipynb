{
 "cells": [
  {
   "cell_type": "code",
   "execution_count": 1,
   "metadata": {},
   "outputs": [],
   "source": [
    "def combine_same_language(file1, file2, file3, file4):\n",
    "    lines = list()\n",
    "    \n",
    "    file1 = open(file1, \"r\")\n",
    "    file2 = open(file2, \"r\")\n",
    "    file3 = open(file3, \"r\")\n",
    "    file4 = open(file4, \"r\")\n",
    "    text1 = file1.read()\n",
    "    text2 = file2.read()\n",
    "    text3 = file3.read()\n",
    "    text4 = file4.read()\n",
    "    file1.close()\n",
    "    file2.close()\n",
    "    file3.close()\n",
    "    file4.close()\n",
    "    \n",
    "    lines1 = text1.split(\"\\n\")\n",
    "    lines2 = text2.split(\"\\n\")\n",
    "    lines3 = text3.split(\"\\n\")\n",
    "    lines4 = text4.split(\"\\n\")\n",
    "    \n",
    "    print(\"The number of lines in file1 is:\", len(lines1))\n",
    "    print(\"The number of lines in file2 is:\", len(lines2))\n",
    "    print(\"The number of lines in file3 is:\", len(lines3))\n",
    "    print(\"The number of lines in file4 is:\", len(lines4))\n",
    "    \n",
    "    for line1 in lines1:\n",
    "        lines.append(line1)\n",
    "    for line2 in lines2:\n",
    "        lines.append(line2)\n",
    "    for line3 in lines3:\n",
    "        lines.append(line3)\n",
    "    for line4 in lines4:\n",
    "        lines.append(line4)\n",
    "    print(\"The number of lines in all the three files combined is:\", len(lines))\n",
    "    \n",
    "    return lines"
   ]
  },
  {
   "cell_type": "code",
   "execution_count": 2,
   "metadata": {},
   "outputs": [
    {
     "name": "stdout",
     "output_type": "stream",
     "text": [
      "The number of lines in file1 is: 2560\n",
      "The number of lines in file2 is: 2836\n",
      "The number of lines in file3 is: 2925\n",
      "The number of lines in file4 is: 151938\n",
      "The number of lines in all the three files combined is: 160259\n"
     ]
    }
   ],
   "source": [
    "en_file1 = \"./Datasets/1en\"\n",
    "en_file2 = \"./Datasets/2en\"\n",
    "en_file3 = \"./Datasets/3en\"\n",
    "en_file4 = \"./Datasets/4en\"\n",
    "\n",
    "lines_en = combine_same_language(en_file1, en_file2, en_file3, en_file4)\n",
    "\n",
    "en_file = open('./english_text.txt', 'w')\n",
    "lines_english = \"\\n\".join(lines_en)\n",
    "en_file.write(lines_english)\n",
    "en_file.close()"
   ]
  },
  {
   "cell_type": "code",
   "execution_count": 3,
   "metadata": {},
   "outputs": [
    {
     "name": "stdout",
     "output_type": "stream",
     "text": [
      "The number of lines in file1 is: 2560\n",
      "The number of lines in file2 is: 2836\n",
      "The number of lines in file3 is: 2925\n",
      "The number of lines in file4 is: 151938\n",
      "The number of lines in all the three files combined is: 160259\n"
     ]
    }
   ],
   "source": [
    "np_file1 = \"./Datasets/1np\"\n",
    "np_file2 = \"./Datasets/2np\"\n",
    "np_file3 = \"./Datasets/3np\"\n",
    "np_file4 = \"./Datasets/4np\"\n",
    "\n",
    "lines_np = combine_same_language(np_file1, np_file2, np_file3, np_file4)\n",
    "\n",
    "np_file = open('./nepali_text.txt', 'w')\n",
    "lines_nepali = \"\\n\".join(lines_np)\n",
    "np_file.write(lines_nepali)\n",
    "np_file.close()"
   ]
  },
  {
   "cell_type": "code",
   "execution_count": 7,
   "metadata": {},
   "outputs": [
    {
     "name": "stdout",
     "output_type": "stream",
     "text": [
      "ENGLISH ===> Putin has his own bike rider gang names 'Night Wolves'.\n",
      "NEPALI ===> पुटिनको आफ्नै 'नाइट उल्भ्स' नामको बाइक राइडर ग्याङ पनि छ ।\n"
     ]
    }
   ],
   "source": [
    "index_position = 0\n",
    "\n",
    "print(\"ENGLISH ===>\", lines_en[index_position])\n",
    "print(\"NEPALI ===>\", lines_np[index_position])"
   ]
  },
  {
   "cell_type": "code",
   "execution_count": null,
   "metadata": {},
   "outputs": [],
   "source": []
  }
 ],
 "metadata": {
  "kernelspec": {
   "display_name": "Python 3.7 (Intel® oneAPI)",
   "language": "python",
   "name": "c009-intel_distribution_of_python_3_oneapi-beta05-python"
  },
  "language_info": {
   "codemirror_mode": {
    "name": "ipython",
    "version": 3
   },
   "file_extension": ".py",
   "mimetype": "text/x-python",
   "name": "python",
   "nbconvert_exporter": "python",
   "pygments_lexer": "ipython3",
   "version": "3.7.7"
  }
 },
 "nbformat": 4,
 "nbformat_minor": 4
}
