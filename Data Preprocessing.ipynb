{
 "cells": [
  {
   "cell_type": "code",
   "execution_count": 1,
   "metadata": {},
   "outputs": [],
   "source": [
    "import pandas as pd\n",
    "from tqdm import tqdm\n",
    "import re\n",
    "import string\n",
    "from pickle import dump"
   ]
  },
  {
   "cell_type": "code",
   "execution_count": 2,
   "metadata": {},
   "outputs": [
    {
     "data": {
      "text/html": [
       "<div>\n",
       "<style scoped>\n",
       "    .dataframe tbody tr th:only-of-type {\n",
       "        vertical-align: middle;\n",
       "    }\n",
       "\n",
       "    .dataframe tbody tr th {\n",
       "        vertical-align: top;\n",
       "    }\n",
       "\n",
       "    .dataframe thead th {\n",
       "        text-align: right;\n",
       "    }\n",
       "</style>\n",
       "<table border=\"1\" class=\"dataframe\">\n",
       "  <thead>\n",
       "    <tr style=\"text-align: right;\">\n",
       "      <th></th>\n",
       "      <th>Nepali</th>\n",
       "      <th>English</th>\n",
       "    </tr>\n",
       "  </thead>\n",
       "  <tbody>\n",
       "    <tr>\n",
       "      <th>0</th>\n",
       "      <td>“मानौ एउटी स्त्रीसँग दशवटा चाँदीका सिक्काहरू छ...</td>\n",
       "      <td>Or what woman, if she had ten drachma coins, i...</td>\n",
       "    </tr>\n",
       "    <tr>\n",
       "      <th>1</th>\n",
       "      <td>ती दुष्ट मानिसहरू हिंस्रक सिंहहरू जस्तै अन्य प...</td>\n",
       "      <td>He is like a lion that is greedy of his prey, ...</td>\n",
       "    </tr>\n",
       "    <tr>\n",
       "      <th>2</th>\n",
       "      <td>प्रक्रिया दृश्य क्रम स्तम्भ</td>\n",
       "      <td>Process view sort column</td>\n",
       "    </tr>\n",
       "    <tr>\n",
       "      <th>3</th>\n",
       "      <td>जहा ट्याबहरु देखाइन सकिन्थ्यो वा सकिन्नथ्यो</td>\n",
       "      <td>Whether tooltips should be shown on widgets</td>\n",
       "    </tr>\n",
       "    <tr>\n",
       "      <th>4</th>\n",
       "      <td>अनुष्ठान अनुसार  जहां केटि  र महिलाहरु पूजाहार...</td>\n",
       "      <td>Ritual servitude where girls and women are ple...</td>\n",
       "    </tr>\n",
       "  </tbody>\n",
       "</table>\n",
       "</div>"
      ],
      "text/plain": [
       "                                              Nepali  \\\n",
       "0  “मानौ एउटी स्त्रीसँग दशवटा चाँदीका सिक्काहरू छ...   \n",
       "1  ती दुष्ट मानिसहरू हिंस्रक सिंहहरू जस्तै अन्य प...   \n",
       "2                        प्रक्रिया दृश्य क्रम स्तम्भ   \n",
       "3        जहा ट्याबहरु देखाइन सकिन्थ्यो वा सकिन्नथ्यो   \n",
       "4  अनुष्ठान अनुसार  जहां केटि  र महिलाहरु पूजाहार...   \n",
       "\n",
       "                                             English  \n",
       "0  Or what woman, if she had ten drachma coins, i...  \n",
       "1  He is like a lion that is greedy of his prey, ...  \n",
       "2                           Process view sort column  \n",
       "3        Whether tooltips should be shown on widgets  \n",
       "4  Ritual servitude where girls and women are ple...  "
      ]
     },
     "execution_count": 2,
     "metadata": {},
     "output_type": "execute_result"
    }
   ],
   "source": [
    "data = pd.read_csv(\"./data.csv\", encoding='utf-8')\n",
    "data.head()"
   ]
  },
  {
   "cell_type": "markdown",
   "metadata": {},
   "source": [
    "# Removing Columns with NaN values"
   ]
  },
  {
   "cell_type": "code",
   "execution_count": 3,
   "metadata": {},
   "outputs": [
    {
     "data": {
      "text/plain": [
       "True"
      ]
     },
     "execution_count": 3,
     "metadata": {},
     "output_type": "execute_result"
    }
   ],
   "source": [
    "pd.isnull(data).values.any()"
   ]
  },
  {
   "cell_type": "code",
   "execution_count": 4,
   "metadata": {},
   "outputs": [
    {
     "data": {
      "text/plain": [
       "Nepali     17\n",
       "English     9\n",
       "dtype: int64"
      ]
     },
     "execution_count": 4,
     "metadata": {},
     "output_type": "execute_result"
    }
   ],
   "source": [
    "pd.isnull(data).sum()"
   ]
  },
  {
   "cell_type": "code",
   "execution_count": 5,
   "metadata": {},
   "outputs": [
    {
     "data": {
      "text/plain": [
       "Nepali     True\n",
       "English    True\n",
       "dtype: bool"
      ]
     },
     "execution_count": 5,
     "metadata": {},
     "output_type": "execute_result"
    }
   ],
   "source": [
    "data.isna().any()"
   ]
  },
  {
   "cell_type": "code",
   "execution_count": 6,
   "metadata": {},
   "outputs": [
    {
     "data": {
      "text/html": [
       "<div>\n",
       "<style scoped>\n",
       "    .dataframe tbody tr th:only-of-type {\n",
       "        vertical-align: middle;\n",
       "    }\n",
       "\n",
       "    .dataframe tbody tr th {\n",
       "        vertical-align: top;\n",
       "    }\n",
       "\n",
       "    .dataframe thead th {\n",
       "        text-align: right;\n",
       "    }\n",
       "</style>\n",
       "<table border=\"1\" class=\"dataframe\">\n",
       "  <thead>\n",
       "    <tr style=\"text-align: right;\">\n",
       "      <th></th>\n",
       "      <th>Nepali</th>\n",
       "      <th>English</th>\n",
       "    </tr>\n",
       "  </thead>\n",
       "  <tbody>\n",
       "    <tr>\n",
       "      <th>3017</th>\n",
       "      <td>NaN</td>\n",
       "      <td>NaN</td>\n",
       "    </tr>\n",
       "    <tr>\n",
       "      <th>24275</th>\n",
       "      <td>NaN</td>\n",
       "      <td>It is necessary to recognize that the farmers ...</td>\n",
       "    </tr>\n",
       "    <tr>\n",
       "      <th>24800</th>\n",
       "      <td>NaN</td>\n",
       "      <td>NaN</td>\n",
       "    </tr>\n",
       "    <tr>\n",
       "      <th>29455</th>\n",
       "      <td>NaN</td>\n",
       "      <td>While the number of lower secondary schools wa...</td>\n",
       "    </tr>\n",
       "    <tr>\n",
       "      <th>30774</th>\n",
       "      <td>NaN</td>\n",
       "      <td>NaN</td>\n",
       "    </tr>\n",
       "    <tr>\n",
       "      <th>37756</th>\n",
       "      <td>NaN</td>\n",
       "      <td>D. level.</td>\n",
       "    </tr>\n",
       "    <tr>\n",
       "      <th>38730</th>\n",
       "      <td>NaN</td>\n",
       "      <td>4. Mule tracks:</td>\n",
       "    </tr>\n",
       "    <tr>\n",
       "      <th>51280</th>\n",
       "      <td>NaN</td>\n",
       "      <td>NaN</td>\n",
       "    </tr>\n",
       "    <tr>\n",
       "      <th>55781</th>\n",
       "      <td>NaN</td>\n",
       "      <td>B.</td>\n",
       "    </tr>\n",
       "    <tr>\n",
       "      <th>58450</th>\n",
       "      <td>NaN</td>\n",
       "      <td>Radio Broadcasting , Television Transmission a...</td>\n",
       "    </tr>\n",
       "    <tr>\n",
       "      <th>60377</th>\n",
       "      <td>NaN</td>\n",
       "      <td>NaN</td>\n",
       "    </tr>\n",
       "    <tr>\n",
       "      <th>71081</th>\n",
       "      <td>NaN</td>\n",
       "      <td>Cement: It is estimated that in order to under...</td>\n",
       "    </tr>\n",
       "    <tr>\n",
       "      <th>74068</th>\n",
       "      <td>NaN</td>\n",
       "      <td>NaN</td>\n",
       "    </tr>\n",
       "    <tr>\n",
       "      <th>102841</th>\n",
       "      <td>NaN</td>\n",
       "      <td>Out of the total loan and investment disbursem...</td>\n",
       "    </tr>\n",
       "    <tr>\n",
       "      <th>113614</th>\n",
       "      <td>NaN</td>\n",
       "      <td>NaN</td>\n",
       "    </tr>\n",
       "    <tr>\n",
       "      <th>128349</th>\n",
       "      <td>NaN</td>\n",
       "      <td>NaN</td>\n",
       "    </tr>\n",
       "    <tr>\n",
       "      <th>147414</th>\n",
       "      <td>NaN</td>\n",
       "      <td>The increase in the internal dema nd for agric...</td>\n",
       "    </tr>\n",
       "  </tbody>\n",
       "</table>\n",
       "</div>"
      ],
      "text/plain": [
       "       Nepali                                            English\n",
       "3017      NaN                                                NaN\n",
       "24275     NaN  It is necessary to recognize that the farmers ...\n",
       "24800     NaN                                                NaN\n",
       "29455     NaN  While the number of lower secondary schools wa...\n",
       "30774     NaN                                                NaN\n",
       "37756     NaN                                          D. level.\n",
       "38730     NaN                                    4. Mule tracks:\n",
       "51280     NaN                                                NaN\n",
       "55781     NaN                                                 B.\n",
       "58450     NaN  Radio Broadcasting , Television Transmission a...\n",
       "60377     NaN                                                NaN\n",
       "71081     NaN  Cement: It is estimated that in order to under...\n",
       "74068     NaN                                                NaN\n",
       "102841    NaN  Out of the total loan and investment disbursem...\n",
       "113614    NaN                                                NaN\n",
       "128349    NaN                                                NaN\n",
       "147414    NaN  The increase in the internal dema nd for agric..."
      ]
     },
     "execution_count": 6,
     "metadata": {},
     "output_type": "execute_result"
    }
   ],
   "source": [
    "np_nan = pd.isnull(data[\"Nepali\"])\n",
    "data[np_nan]"
   ]
  },
  {
   "cell_type": "code",
   "execution_count": 7,
   "metadata": {},
   "outputs": [
    {
     "data": {
      "text/html": [
       "<div>\n",
       "<style scoped>\n",
       "    .dataframe tbody tr th:only-of-type {\n",
       "        vertical-align: middle;\n",
       "    }\n",
       "\n",
       "    .dataframe tbody tr th {\n",
       "        vertical-align: top;\n",
       "    }\n",
       "\n",
       "    .dataframe thead th {\n",
       "        text-align: right;\n",
       "    }\n",
       "</style>\n",
       "<table border=\"1\" class=\"dataframe\">\n",
       "  <thead>\n",
       "    <tr style=\"text-align: right;\">\n",
       "      <th></th>\n",
       "      <th>Nepali</th>\n",
       "      <th>English</th>\n",
       "    </tr>\n",
       "  </thead>\n",
       "  <tbody>\n",
       "    <tr>\n",
       "      <th>3017</th>\n",
       "      <td>NaN</td>\n",
       "      <td>NaN</td>\n",
       "    </tr>\n",
       "    <tr>\n",
       "      <th>24800</th>\n",
       "      <td>NaN</td>\n",
       "      <td>NaN</td>\n",
       "    </tr>\n",
       "    <tr>\n",
       "      <th>30621</th>\n",
       "      <td>खर्चको व्यवस्था :</td>\n",
       "      <td>NaN</td>\n",
       "    </tr>\n",
       "    <tr>\n",
       "      <th>30774</th>\n",
       "      <td>NaN</td>\n",
       "      <td>NaN</td>\n",
       "    </tr>\n",
       "    <tr>\n",
       "      <th>51280</th>\n",
       "      <td>NaN</td>\n",
       "      <td>NaN</td>\n",
       "    </tr>\n",
       "    <tr>\n",
       "      <th>60377</th>\n",
       "      <td>NaN</td>\n",
       "      <td>NaN</td>\n",
       "    </tr>\n",
       "    <tr>\n",
       "      <th>74068</th>\n",
       "      <td>NaN</td>\n",
       "      <td>NaN</td>\n",
       "    </tr>\n",
       "    <tr>\n",
       "      <th>113614</th>\n",
       "      <td>NaN</td>\n",
       "      <td>NaN</td>\n",
       "    </tr>\n",
       "    <tr>\n",
       "      <th>128349</th>\n",
       "      <td>NaN</td>\n",
       "      <td>NaN</td>\n",
       "    </tr>\n",
       "  </tbody>\n",
       "</table>\n",
       "</div>"
      ],
      "text/plain": [
       "                   Nepali English\n",
       "3017                  NaN     NaN\n",
       "24800                 NaN     NaN\n",
       "30621   खर्चको व्यवस्था :     NaN\n",
       "30774                 NaN     NaN\n",
       "51280                 NaN     NaN\n",
       "60377                 NaN     NaN\n",
       "74068                 NaN     NaN\n",
       "113614                NaN     NaN\n",
       "128349                NaN     NaN"
      ]
     },
     "execution_count": 7,
     "metadata": {},
     "output_type": "execute_result"
    }
   ],
   "source": [
    "en_nan = pd.isnull(data[\"English\"])\n",
    "data[en_nan]"
   ]
  },
  {
   "cell_type": "code",
   "execution_count": 8,
   "metadata": {},
   "outputs": [
    {
     "data": {
      "text/plain": [
       "(160241, 2)"
      ]
     },
     "execution_count": 8,
     "metadata": {},
     "output_type": "execute_result"
    }
   ],
   "source": [
    "data = data.dropna()\n",
    "data.shape"
   ]
  },
  {
   "cell_type": "code",
   "execution_count": 9,
   "metadata": {},
   "outputs": [
    {
     "data": {
      "text/plain": [
       "Nepali     False\n",
       "English    False\n",
       "dtype: bool"
      ]
     },
     "execution_count": 9,
     "metadata": {},
     "output_type": "execute_result"
    }
   ],
   "source": [
    "data.isna().any()"
   ]
  },
  {
   "cell_type": "code",
   "execution_count": 10,
   "metadata": {},
   "outputs": [
    {
     "data": {
      "text/plain": [
       "Nepali     0\n",
       "English    0\n",
       "dtype: int64"
      ]
     },
     "execution_count": 10,
     "metadata": {},
     "output_type": "execute_result"
    }
   ],
   "source": [
    "pd.isnull(data).sum()"
   ]
  },
  {
   "cell_type": "markdown",
   "metadata": {},
   "source": [
    "# Defining Functions for Preprocessing Data"
   ]
  },
  {
   "cell_type": "code",
   "execution_count": 11,
   "metadata": {},
   "outputs": [],
   "source": [
    "def to_lower(text):\n",
    "    return text.lower()"
   ]
  },
  {
   "cell_type": "code",
   "execution_count": 12,
   "metadata": {},
   "outputs": [],
   "source": [
    "def remove_quotes(text):\n",
    "    result = re.sub(\"'\", '', text)\n",
    "    return result"
   ]
  },
  {
   "cell_type": "code",
   "execution_count": 13,
   "metadata": {},
   "outputs": [],
   "source": [
    "def remove_vertical_bar(text):\n",
    "    result = re.sub(\"।\", '', text)\n",
    "    return result"
   ]
  },
  {
   "cell_type": "code",
   "execution_count": 14,
   "metadata": {},
   "outputs": [],
   "source": [
    "def clean_punctuations(text):\n",
    "    word_list = []\n",
    "    # Defining a set of all the punctuations\n",
    "    punctuations = set(string.punctuation)\n",
    "    for word in text:\n",
    "        if word not in punctuations:\n",
    "            word_list.append(word)\n",
    "        else:\n",
    "            continue\n",
    "    result = \"\".join(word_list)\n",
    "    return result"
   ]
  },
  {
   "cell_type": "code",
   "execution_count": 15,
   "metadata": {},
   "outputs": [],
   "source": [
    "def remove_extra_spaces(text):\n",
    "    stripped_text = text.strip()\n",
    "    result = re.sub(\" +\", \" \", stripped_text)\n",
    "    return result"
   ]
  },
  {
   "cell_type": "code",
   "execution_count": 16,
   "metadata": {},
   "outputs": [],
   "source": [
    "def preprocess_data(language_column):\n",
    "    result = []\n",
    "    for sentence in tqdm(data[language_column].values):\n",
    "        lowered_text = to_lower(sentence)\n",
    "        non_quoted_text = remove_quotes(lowered_text)\n",
    "        v_text = remove_vertical_bar(non_quoted_text)\n",
    "        cleaned_text = clean_punctuations(v_text)\n",
    "        final_text = remove_extra_spaces(cleaned_text)\n",
    "        result.append(final_text)\n",
    "    return result"
   ]
  },
  {
   "cell_type": "markdown",
   "metadata": {},
   "source": [
    "# Function calling for Preprocessing Data"
   ]
  },
  {
   "cell_type": "code",
   "execution_count": 17,
   "metadata": {},
   "outputs": [
    {
     "name": "stderr",
     "output_type": "stream",
     "text": [
      "100%|██████████| 160241/160241 [00:03<00:00, 45786.32it/s]\n",
      "100%|██████████| 160241/160241 [00:02<00:00, 60366.40it/s]\n"
     ]
    },
    {
     "data": {
      "text/html": [
       "<div>\n",
       "<style scoped>\n",
       "    .dataframe tbody tr th:only-of-type {\n",
       "        vertical-align: middle;\n",
       "    }\n",
       "\n",
       "    .dataframe tbody tr th {\n",
       "        vertical-align: top;\n",
       "    }\n",
       "\n",
       "    .dataframe thead th {\n",
       "        text-align: right;\n",
       "    }\n",
       "</style>\n",
       "<table border=\"1\" class=\"dataframe\">\n",
       "  <thead>\n",
       "    <tr style=\"text-align: right;\">\n",
       "      <th></th>\n",
       "      <th>Nepali</th>\n",
       "      <th>English</th>\n",
       "    </tr>\n",
       "  </thead>\n",
       "  <tbody>\n",
       "    <tr>\n",
       "      <th>0</th>\n",
       "      <td>“मानौ एउटी स्त्रीसँग दशवटा चाँदीका सिक्काहरू छ...</td>\n",
       "      <td>or what woman if she had ten drachma coins if ...</td>\n",
       "    </tr>\n",
       "    <tr>\n",
       "      <th>1</th>\n",
       "      <td>ती दुष्ट मानिसहरू हिंस्रक सिंहहरू जस्तै अन्य प...</td>\n",
       "      <td>he is like a lion that is greedy of his prey a...</td>\n",
       "    </tr>\n",
       "    <tr>\n",
       "      <th>2</th>\n",
       "      <td>प्रक्रिया दृश्य क्रम स्तम्भ</td>\n",
       "      <td>process view sort column</td>\n",
       "    </tr>\n",
       "    <tr>\n",
       "      <th>3</th>\n",
       "      <td>जहा ट्याबहरु देखाइन सकिन्थ्यो वा सकिन्नथ्यो</td>\n",
       "      <td>whether tooltips should be shown on widgets</td>\n",
       "    </tr>\n",
       "    <tr>\n",
       "      <th>4</th>\n",
       "      <td>अनुष्ठान अनुसार जहां केटि र महिलाहरु पूजाहारीह...</td>\n",
       "      <td>ritual servitude where girls and women are ple...</td>\n",
       "    </tr>\n",
       "  </tbody>\n",
       "</table>\n",
       "</div>"
      ],
      "text/plain": [
       "                                              Nepali  \\\n",
       "0  “मानौ एउटी स्त्रीसँग दशवटा चाँदीका सिक्काहरू छ...   \n",
       "1  ती दुष्ट मानिसहरू हिंस्रक सिंहहरू जस्तै अन्य प...   \n",
       "2                        प्रक्रिया दृश्य क्रम स्तम्भ   \n",
       "3        जहा ट्याबहरु देखाइन सकिन्थ्यो वा सकिन्नथ्यो   \n",
       "4  अनुष्ठान अनुसार जहां केटि र महिलाहरु पूजाहारीह...   \n",
       "\n",
       "                                             English  \n",
       "0  or what woman if she had ten drachma coins if ...  \n",
       "1  he is like a lion that is greedy of his prey a...  \n",
       "2                           process view sort column  \n",
       "3        whether tooltips should be shown on widgets  \n",
       "4  ritual servitude where girls and women are ple...  "
      ]
     },
     "execution_count": 17,
     "metadata": {},
     "output_type": "execute_result"
    }
   ],
   "source": [
    "data[\"Nepali\"] = preprocess_data(\"Nepali\")\n",
    "data[\"English\"] = preprocess_data(\"English\")\n",
    "data.head()"
   ]
  },
  {
   "cell_type": "code",
   "execution_count": 18,
   "metadata": {},
   "outputs": [
    {
     "data": {
      "text/html": [
       "<div>\n",
       "<style scoped>\n",
       "    .dataframe tbody tr th:only-of-type {\n",
       "        vertical-align: middle;\n",
       "    }\n",
       "\n",
       "    .dataframe tbody tr th {\n",
       "        vertical-align: top;\n",
       "    }\n",
       "\n",
       "    .dataframe thead th {\n",
       "        text-align: right;\n",
       "    }\n",
       "</style>\n",
       "<table border=\"1\" class=\"dataframe\">\n",
       "  <thead>\n",
       "    <tr style=\"text-align: right;\">\n",
       "      <th></th>\n",
       "      <th>Nepali</th>\n",
       "      <th>English</th>\n",
       "    </tr>\n",
       "  </thead>\n",
       "  <tbody>\n",
       "    <tr>\n",
       "      <th>0</th>\n",
       "      <td>START_TOKEN “मानौ एउटी स्त्रीसँग दशवटा चाँदीका...</td>\n",
       "      <td>or what woman if she had ten drachma coins if ...</td>\n",
       "    </tr>\n",
       "    <tr>\n",
       "      <th>1</th>\n",
       "      <td>START_TOKEN ती दुष्ट मानिसहरू हिंस्रक सिंहहरू ...</td>\n",
       "      <td>he is like a lion that is greedy of his prey a...</td>\n",
       "    </tr>\n",
       "    <tr>\n",
       "      <th>2</th>\n",
       "      <td>START_TOKEN प्रक्रिया दृश्य क्रम स्तम्भ END_TOKEN</td>\n",
       "      <td>process view sort column</td>\n",
       "    </tr>\n",
       "    <tr>\n",
       "      <th>3</th>\n",
       "      <td>START_TOKEN जहा ट्याबहरु देखाइन सकिन्थ्यो वा स...</td>\n",
       "      <td>whether tooltips should be shown on widgets</td>\n",
       "    </tr>\n",
       "    <tr>\n",
       "      <th>4</th>\n",
       "      <td>START_TOKEN अनुष्ठान अनुसार जहां केटि र महिलाह...</td>\n",
       "      <td>ritual servitude where girls and women are ple...</td>\n",
       "    </tr>\n",
       "  </tbody>\n",
       "</table>\n",
       "</div>"
      ],
      "text/plain": [
       "                                              Nepali  \\\n",
       "0  START_TOKEN “मानौ एउटी स्त्रीसँग दशवटा चाँदीका...   \n",
       "1  START_TOKEN ती दुष्ट मानिसहरू हिंस्रक सिंहहरू ...   \n",
       "2  START_TOKEN प्रक्रिया दृश्य क्रम स्तम्भ END_TOKEN   \n",
       "3  START_TOKEN जहा ट्याबहरु देखाइन सकिन्थ्यो वा स...   \n",
       "4  START_TOKEN अनुष्ठान अनुसार जहां केटि र महिलाह...   \n",
       "\n",
       "                                             English  \n",
       "0  or what woman if she had ten drachma coins if ...  \n",
       "1  he is like a lion that is greedy of his prey a...  \n",
       "2                           process view sort column  \n",
       "3        whether tooltips should be shown on widgets  \n",
       "4  ritual servitude where girls and women are ple...  "
      ]
     },
     "execution_count": 18,
     "metadata": {},
     "output_type": "execute_result"
    }
   ],
   "source": [
    "data[\"Nepali\"] = data[\"Nepali\"].apply(lambda x : 'START_TOKEN ' + x + ' END_TOKEN')\n",
    "data.head()"
   ]
  },
  {
   "cell_type": "markdown",
   "metadata": {},
   "source": [
    "# Saving Preprocessed Data to csv file"
   ]
  },
  {
   "cell_type": "code",
   "execution_count": 19,
   "metadata": {},
   "outputs": [],
   "source": [
    "data.to_csv(\"./cleaned_data.csv\", index=False)"
   ]
  },
  {
   "cell_type": "markdown",
   "metadata": {},
   "source": [
    "# Tokenize the text"
   ]
  },
  {
   "cell_type": "code",
   "execution_count": 20,
   "metadata": {},
   "outputs": [],
   "source": [
    "def create_tokens(language_column):\n",
    "    tokens_list = list()\n",
    "    for sentence in tqdm(data[language_column].values):\n",
    "        for word in sentence.split():\n",
    "            tokens_list.append(word)\n",
    "            \n",
    "    print(\"The total words in\", language_column, \"text is:\", len(tokens_list))\n",
    "    \n",
    "    tokens_set = set(tokens_list)\n",
    "    print(\"The length of\", language_column, \"tokens is:\", len(tokens_set))\n",
    "    \n",
    "    return tokens_set"
   ]
  },
  {
   "cell_type": "code",
   "execution_count": 21,
   "metadata": {},
   "outputs": [
    {
     "name": "stderr",
     "output_type": "stream",
     "text": [
      "100%|██████████| 160241/160241 [00:00<00:00, 346438.56it/s]\n"
     ]
    },
    {
     "name": "stdout",
     "output_type": "stream",
     "text": [
      "The total words in Nepali text is: 2505000\n",
      "The length of Nepali tokens is: 186399\n"
     ]
    }
   ],
   "source": [
    "np_tokens = create_tokens(\"Nepali\")"
   ]
  },
  {
   "cell_type": "code",
   "execution_count": 22,
   "metadata": {},
   "outputs": [
    {
     "name": "stderr",
     "output_type": "stream",
     "text": [
      "100%|██████████| 160241/160241 [00:00<00:00, 464557.16it/s]\n"
     ]
    },
    {
     "name": "stdout",
     "output_type": "stream",
     "text": [
      "The total words in English text is: 2502007\n",
      "The length of English tokens is: 64316\n"
     ]
    }
   ],
   "source": [
    "en_tokens = create_tokens(\"English\")"
   ]
  },
  {
   "cell_type": "code",
   "execution_count": 23,
   "metadata": {},
   "outputs": [],
   "source": [
    "dump(np_tokens, open('./np_tokens.pkl', 'wb'))\n",
    "dump(en_tokens, open('./en_tokens.pkl', 'wb'))"
   ]
  },
  {
   "cell_type": "code",
   "execution_count": null,
   "metadata": {},
   "outputs": [],
   "source": []
  }
 ],
 "metadata": {
  "kernelspec": {
   "display_name": "Python 3.7 (Intel® oneAPI)",
   "language": "python",
   "name": "c009-intel_distribution_of_python_3_oneapi-beta05-python"
  },
  "language_info": {
   "codemirror_mode": {
    "name": "ipython",
    "version": 3
   },
   "file_extension": ".py",
   "mimetype": "text/x-python",
   "name": "python",
   "nbconvert_exporter": "python",
   "pygments_lexer": "ipython3",
   "version": "3.7.9"
  }
 },
 "nbformat": 4,
 "nbformat_minor": 4
}
