{
 "cells": [
  {
   "cell_type": "code",
   "execution_count": 1,
   "metadata": {},
   "outputs": [],
   "source": [
    "import pandas as pd\n",
    "from sklearn.utils import shuffle"
   ]
  },
  {
   "cell_type": "code",
   "execution_count": 2,
   "metadata": {},
   "outputs": [],
   "source": [
    "np_file = open(\"./nepali_text.txt\", \"r\")\n",
    "en_file = open(\"./english_text.txt\", \"r\")\n",
    "\n",
    "np_text = np_file.read()\n",
    "en_text = en_file.read()\n",
    "\n",
    "np_file.close()\n",
    "en_file.close()"
   ]
  },
  {
   "cell_type": "code",
   "execution_count": 3,
   "metadata": {},
   "outputs": [
    {
     "name": "stdout",
     "output_type": "stream",
     "text": [
      "The number of lines in nepali text is: 160259\n",
      "The number of lines in english text is: 160259\n"
     ]
    }
   ],
   "source": [
    "np_lines = np_text.split(\"\\n\")\n",
    "en_lines = en_text.split(\"\\n\")\n",
    "\n",
    "print(\"The number of lines in nepali text is:\", len(np_lines))\n",
    "print(\"The number of lines in english text is:\", len(en_lines))"
   ]
  },
  {
   "cell_type": "code",
   "execution_count": 4,
   "metadata": {},
   "outputs": [],
   "source": [
    "np_lines_df = pd.DataFrame({'Nepali': np_lines})\n",
    "en_lines_df = pd.DataFrame({'English': en_lines})"
   ]
  },
  {
   "cell_type": "code",
   "execution_count": 5,
   "metadata": {},
   "outputs": [],
   "source": [
    "np_lines_df.to_csv(\"./np_data.csv\", index=False)"
   ]
  },
  {
   "cell_type": "code",
   "execution_count": 6,
   "metadata": {},
   "outputs": [
    {
     "data": {
      "text/html": [
       "<div>\n",
       "<style scoped>\n",
       "    .dataframe tbody tr th:only-of-type {\n",
       "        vertical-align: middle;\n",
       "    }\n",
       "\n",
       "    .dataframe tbody tr th {\n",
       "        vertical-align: top;\n",
       "    }\n",
       "\n",
       "    .dataframe thead th {\n",
       "        text-align: right;\n",
       "    }\n",
       "</style>\n",
       "<table border=\"1\" class=\"dataframe\">\n",
       "  <thead>\n",
       "    <tr style=\"text-align: right;\">\n",
       "      <th></th>\n",
       "      <th>Nepali</th>\n",
       "    </tr>\n",
       "  </thead>\n",
       "  <tbody>\n",
       "    <tr>\n",
       "      <th>0</th>\n",
       "      <td>पुटिनको आफ्नै 'नाइट उल्भ्स' नामको बाइक राइडर ग...</td>\n",
       "    </tr>\n",
       "    <tr>\n",
       "      <th>1</th>\n",
       "      <td>पुटिनको तर्क छ, अमेरिका र युरोपको आडमा कोसोभोल...</td>\n",
       "    </tr>\n",
       "    <tr>\n",
       "      <th>2</th>\n",
       "      <td>पुटिनको विरोधमा गरिने सबै र् याली र सभाहरूमा य...</td>\n",
       "    </tr>\n",
       "    <tr>\n",
       "      <th>3</th>\n",
       "      <td>पुटिनको शब्दमा ' घुँडा टेकेर बसेको रुस अब बिस्...</td>\n",
       "    </tr>\n",
       "    <tr>\n",
       "      <th>4</th>\n",
       "      <td>पुटिन राष्ट्रपति भएको दुई वर्ष हुँदा लेखिएको ग...</td>\n",
       "    </tr>\n",
       "  </tbody>\n",
       "</table>\n",
       "</div>"
      ],
      "text/plain": [
       "                                              Nepali\n",
       "0  पुटिनको आफ्नै 'नाइट उल्भ्स' नामको बाइक राइडर ग...\n",
       "1  पुटिनको तर्क छ, अमेरिका र युरोपको आडमा कोसोभोल...\n",
       "2  पुटिनको विरोधमा गरिने सबै र् याली र सभाहरूमा य...\n",
       "3  पुटिनको शब्दमा ' घुँडा टेकेर बसेको रुस अब बिस्...\n",
       "4  पुटिन राष्ट्रपति भएको दुई वर्ष हुँदा लेखिएको ग..."
      ]
     },
     "execution_count": 6,
     "metadata": {},
     "output_type": "execute_result"
    }
   ],
   "source": [
    "df = pd.read_csv(\"./np_data.csv\")\n",
    "df.head()"
   ]
  },
  {
   "cell_type": "code",
   "execution_count": 7,
   "metadata": {},
   "outputs": [
    {
     "data": {
      "text/plain": [
       "(160259, 1)"
      ]
     },
     "execution_count": 7,
     "metadata": {},
     "output_type": "execute_result"
    }
   ],
   "source": [
    "df.shape"
   ]
  },
  {
   "cell_type": "code",
   "execution_count": 8,
   "metadata": {},
   "outputs": [
    {
     "data": {
      "text/html": [
       "<div>\n",
       "<style scoped>\n",
       "    .dataframe tbody tr th:only-of-type {\n",
       "        vertical-align: middle;\n",
       "    }\n",
       "\n",
       "    .dataframe tbody tr th {\n",
       "        vertical-align: top;\n",
       "    }\n",
       "\n",
       "    .dataframe thead th {\n",
       "        text-align: right;\n",
       "    }\n",
       "</style>\n",
       "<table border=\"1\" class=\"dataframe\">\n",
       "  <thead>\n",
       "    <tr style=\"text-align: right;\">\n",
       "      <th></th>\n",
       "      <th>Nepali</th>\n",
       "      <th>English</th>\n",
       "    </tr>\n",
       "  </thead>\n",
       "  <tbody>\n",
       "    <tr>\n",
       "      <th>0</th>\n",
       "      <td>पुटिनको आफ्नै 'नाइट उल्भ्स' नामको बाइक राइडर ग...</td>\n",
       "      <td>Putin has his own bike rider gang names 'Night...</td>\n",
       "    </tr>\n",
       "    <tr>\n",
       "      <th>1</th>\n",
       "      <td>पुटिनको तर्क छ, अमेरिका र युरोपको आडमा कोसोभोल...</td>\n",
       "      <td>Putin argues that if under American and Europe...</td>\n",
       "    </tr>\n",
       "    <tr>\n",
       "      <th>2</th>\n",
       "      <td>पुटिनको विरोधमा गरिने सबै र् याली र सभाहरूमा य...</td>\n",
       "      <td>This song became like a formal song in all act...</td>\n",
       "    </tr>\n",
       "    <tr>\n",
       "      <th>3</th>\n",
       "      <td>पुटिनको शब्दमा ' घुँडा टेकेर बसेको रुस अब बिस्...</td>\n",
       "      <td>In Putin's words, 'Russia, on its knees, is no...</td>\n",
       "    </tr>\n",
       "    <tr>\n",
       "      <th>4</th>\n",
       "      <td>पुटिन राष्ट्रपति भएको दुई वर्ष हुँदा लेखिएको ग...</td>\n",
       "      <td>'A man like Putin' was the song written when P...</td>\n",
       "    </tr>\n",
       "  </tbody>\n",
       "</table>\n",
       "</div>"
      ],
      "text/plain": [
       "                                              Nepali  \\\n",
       "0  पुटिनको आफ्नै 'नाइट उल्भ्स' नामको बाइक राइडर ग...   \n",
       "1  पुटिनको तर्क छ, अमेरिका र युरोपको आडमा कोसोभोल...   \n",
       "2  पुटिनको विरोधमा गरिने सबै र् याली र सभाहरूमा य...   \n",
       "3  पुटिनको शब्दमा ' घुँडा टेकेर बसेको रुस अब बिस्...   \n",
       "4  पुटिन राष्ट्रपति भएको दुई वर्ष हुँदा लेखिएको ग...   \n",
       "\n",
       "                                             English  \n",
       "0  Putin has his own bike rider gang names 'Night...  \n",
       "1  Putin argues that if under American and Europe...  \n",
       "2  This song became like a formal song in all act...  \n",
       "3  In Putin's words, 'Russia, on its knees, is no...  \n",
       "4  'A man like Putin' was the song written when P...  "
      ]
     },
     "execution_count": 8,
     "metadata": {},
     "output_type": "execute_result"
    }
   ],
   "source": [
    "df[\"English\"] = en_lines_df\n",
    "df.head()"
   ]
  },
  {
   "cell_type": "code",
   "execution_count": 9,
   "metadata": {},
   "outputs": [
    {
     "data": {
      "text/plain": [
       "(160259, 2)"
      ]
     },
     "execution_count": 9,
     "metadata": {},
     "output_type": "execute_result"
    }
   ],
   "source": [
    "df.shape"
   ]
  },
  {
   "cell_type": "code",
   "execution_count": 10,
   "metadata": {},
   "outputs": [],
   "source": [
    "df = shuffle(df)"
   ]
  },
  {
   "cell_type": "code",
   "execution_count": 11,
   "metadata": {},
   "outputs": [],
   "source": [
    "df.to_csv(\"./data.csv\", index=False)"
   ]
  },
  {
   "cell_type": "code",
   "execution_count": 12,
   "metadata": {},
   "outputs": [
    {
     "data": {
      "text/html": [
       "<div>\n",
       "<style scoped>\n",
       "    .dataframe tbody tr th:only-of-type {\n",
       "        vertical-align: middle;\n",
       "    }\n",
       "\n",
       "    .dataframe tbody tr th {\n",
       "        vertical-align: top;\n",
       "    }\n",
       "\n",
       "    .dataframe thead th {\n",
       "        text-align: right;\n",
       "    }\n",
       "</style>\n",
       "<table border=\"1\" class=\"dataframe\">\n",
       "  <thead>\n",
       "    <tr style=\"text-align: right;\">\n",
       "      <th></th>\n",
       "      <th>Nepali</th>\n",
       "      <th>English</th>\n",
       "    </tr>\n",
       "  </thead>\n",
       "  <tbody>\n",
       "    <tr>\n",
       "      <th>0</th>\n",
       "      <td>“मानौ एउटी स्त्रीसँग दशवटा चाँदीका सिक्काहरू छ...</td>\n",
       "      <td>Or what woman, if she had ten drachma coins, i...</td>\n",
       "    </tr>\n",
       "    <tr>\n",
       "      <th>1</th>\n",
       "      <td>ती दुष्ट मानिसहरू हिंस्रक सिंहहरू जस्तै अन्य प...</td>\n",
       "      <td>He is like a lion that is greedy of his prey, ...</td>\n",
       "    </tr>\n",
       "    <tr>\n",
       "      <th>2</th>\n",
       "      <td>प्रक्रिया दृश्य क्रम स्तम्भ</td>\n",
       "      <td>Process view sort column</td>\n",
       "    </tr>\n",
       "    <tr>\n",
       "      <th>3</th>\n",
       "      <td>जहा ट्याबहरु देखाइन सकिन्थ्यो वा सकिन्नथ्यो</td>\n",
       "      <td>Whether tooltips should be shown on widgets</td>\n",
       "    </tr>\n",
       "    <tr>\n",
       "      <th>4</th>\n",
       "      <td>अनुष्ठान अनुसार  जहां केटि  र महिलाहरु पूजाहार...</td>\n",
       "      <td>Ritual servitude where girls and women are ple...</td>\n",
       "    </tr>\n",
       "  </tbody>\n",
       "</table>\n",
       "</div>"
      ],
      "text/plain": [
       "                                              Nepali  \\\n",
       "0  “मानौ एउटी स्त्रीसँग दशवटा चाँदीका सिक्काहरू छ...   \n",
       "1  ती दुष्ट मानिसहरू हिंस्रक सिंहहरू जस्तै अन्य प...   \n",
       "2                        प्रक्रिया दृश्य क्रम स्तम्भ   \n",
       "3        जहा ट्याबहरु देखाइन सकिन्थ्यो वा सकिन्नथ्यो   \n",
       "4  अनुष्ठान अनुसार  जहां केटि  र महिलाहरु पूजाहार...   \n",
       "\n",
       "                                             English  \n",
       "0  Or what woman, if she had ten drachma coins, i...  \n",
       "1  He is like a lion that is greedy of his prey, ...  \n",
       "2                           Process view sort column  \n",
       "3        Whether tooltips should be shown on widgets  \n",
       "4  Ritual servitude where girls and women are ple...  "
      ]
     },
     "execution_count": 12,
     "metadata": {},
     "output_type": "execute_result"
    }
   ],
   "source": [
    "data = pd.read_csv(\"./data.csv\")\n",
    "data.head()"
   ]
  },
  {
   "cell_type": "code",
   "execution_count": 13,
   "metadata": {},
   "outputs": [
    {
     "data": {
      "text/plain": [
       "(160259, 2)"
      ]
     },
     "execution_count": 13,
     "metadata": {},
     "output_type": "execute_result"
    }
   ],
   "source": [
    "data.shape"
   ]
  },
  {
   "cell_type": "code",
   "execution_count": 14,
   "metadata": {},
   "outputs": [
    {
     "name": "stdout",
     "output_type": "stream",
     "text": [
      "यसमा  तराईतर्फ १,८०,९२६ र महाडतर्फ १७,५५५ हेक्टर पर्दछ\n",
      "Of this 1,80,926 and 17,555 hectares of land were provided with irrigation facilities in the Terai and Mountain regions respectively.\n"
     ]
    }
   ],
   "source": [
    "index_position = 20\n",
    "\n",
    "print(data[\"Nepali\"][index_position])\n",
    "print(data[\"English\"][index_position])"
   ]
  },
  {
   "cell_type": "code",
   "execution_count": null,
   "metadata": {},
   "outputs": [],
   "source": []
  }
 ],
 "metadata": {
  "kernelspec": {
   "display_name": "Python 3.7 (Intel® oneAPI)",
   "language": "python",
   "name": "c009-intel_distribution_of_python_3_oneapi-beta05-python"
  },
  "language_info": {
   "codemirror_mode": {
    "name": "ipython",
    "version": 3
   },
   "file_extension": ".py",
   "mimetype": "text/x-python",
   "name": "python",
   "nbconvert_exporter": "python",
   "pygments_lexer": "ipython3",
   "version": "3.7.9"
  }
 },
 "nbformat": 4,
 "nbformat_minor": 4
}
