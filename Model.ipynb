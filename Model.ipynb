{
 "cells": [
  {
   "cell_type": "code",
   "execution_count": 1,
   "metadata": {},
   "outputs": [],
   "source": [
    "import numpy as np\n",
    "import pandas as pd\n",
    "from pickle import load"
   ]
  },
  {
   "cell_type": "code",
   "execution_count": 2,
   "metadata": {},
   "outputs": [],
   "source": [
    "en_tokens = load(open('./en_tokens.pkl', 'rb'))\n",
    "np_tokens = load(open('./np_tokens.pkl', 'rb'))\n",
    "\n",
    "# sorted() can only be used with iterable data structure\n",
    "# So, here we are converting set() type to list() type\n",
    "encoder_tokens = sorted(list(en_tokens))\n",
    "decoder_tokens = sorted(list(np_tokens))"
   ]
  },
  {
   "cell_type": "code",
   "execution_count": 3,
   "metadata": {},
   "outputs": [
    {
     "name": "stdout",
     "output_type": "stream",
     "text": [
      "The length of Nepali/Decoder tokens is: 186399\n",
      "The length of English/Encoder tokens is: 64316\n"
     ]
    }
   ],
   "source": [
    "# Here we are translating from English to Nepali language\n",
    "# So, en_tokens act as encoder tokens and np_tokens act as decoder tokens\n",
    "num_decoder_tokens = len(decoder_tokens)\n",
    "num_encoder_tokens = len(encoder_tokens)\n",
    "\n",
    "print(\"The length of Nepali/Decoder tokens is:\", num_decoder_tokens)\n",
    "print(\"The length of English/Encoder tokens is:\", num_encoder_tokens)"
   ]
  },
  {
   "cell_type": "code",
   "execution_count": 4,
   "metadata": {},
   "outputs": [
    {
     "name": "stdout",
     "output_type": "stream",
     "text": [
      "The length of Nepali/Decoder tokens is: 186400\n",
      "The length of English/Encoder tokens is: 64316\n"
     ]
    }
   ],
   "source": [
    "# For zero padding\n",
    "num_decoder_tokens += 1\n",
    "\n",
    "print(\"The length of Nepali/Decoder tokens is:\", num_decoder_tokens)\n",
    "print(\"The length of English/Encoder tokens is:\", num_encoder_tokens)"
   ]
  },
  {
   "cell_type": "code",
   "execution_count": 5,
   "metadata": {},
   "outputs": [],
   "source": [
    "# Creating Vocabulary of the words\n",
    "encoder_token_dict = dict([(word, i+1) for i, word in enumerate(encoder_tokens)])\n",
    "decoder_token_dict = dict([(word, i+1) for i, word in enumerate(decoder_tokens)])"
   ]
  },
  {
   "cell_type": "markdown",
   "metadata": {},
   "source": [
    "# Random Splitting of Data"
   ]
  },
  {
   "cell_type": "code",
   "execution_count": 6,
   "metadata": {},
   "outputs": [],
   "source": [
    "from sklearn.model_selection import train_test_split"
   ]
  },
  {
   "cell_type": "code",
   "execution_count": 7,
   "metadata": {},
   "outputs": [
    {
     "data": {
      "text/html": [
       "<div>\n",
       "<style scoped>\n",
       "    .dataframe tbody tr th:only-of-type {\n",
       "        vertical-align: middle;\n",
       "    }\n",
       "\n",
       "    .dataframe tbody tr th {\n",
       "        vertical-align: top;\n",
       "    }\n",
       "\n",
       "    .dataframe thead th {\n",
       "        text-align: right;\n",
       "    }\n",
       "</style>\n",
       "<table border=\"1\" class=\"dataframe\">\n",
       "  <thead>\n",
       "    <tr style=\"text-align: right;\">\n",
       "      <th></th>\n",
       "      <th>Nepali</th>\n",
       "      <th>English</th>\n",
       "    </tr>\n",
       "  </thead>\n",
       "  <tbody>\n",
       "    <tr>\n",
       "      <th>0</th>\n",
       "      <td>START_TOKEN “मानौ एउटी स्त्रीसँग दशवटा चाँदीका...</td>\n",
       "      <td>or what woman if she had ten drachma coins if ...</td>\n",
       "    </tr>\n",
       "    <tr>\n",
       "      <th>1</th>\n",
       "      <td>START_TOKEN ती दुष्ट मानिसहरू हिंस्रक सिंहहरू ...</td>\n",
       "      <td>he is like a lion that is greedy of his prey a...</td>\n",
       "    </tr>\n",
       "    <tr>\n",
       "      <th>2</th>\n",
       "      <td>START_TOKEN प्रक्रिया दृश्य क्रम स्तम्भ END_TOKEN</td>\n",
       "      <td>process view sort column</td>\n",
       "    </tr>\n",
       "    <tr>\n",
       "      <th>3</th>\n",
       "      <td>START_TOKEN जहा ट्याबहरु देखाइन सकिन्थ्यो वा स...</td>\n",
       "      <td>whether tooltips should be shown on widgets</td>\n",
       "    </tr>\n",
       "    <tr>\n",
       "      <th>4</th>\n",
       "      <td>START_TOKEN अनुष्ठान अनुसार जहां केटि र महिलाह...</td>\n",
       "      <td>ritual servitude where girls and women are ple...</td>\n",
       "    </tr>\n",
       "  </tbody>\n",
       "</table>\n",
       "</div>"
      ],
      "text/plain": [
       "                                              Nepali  \\\n",
       "0  START_TOKEN “मानौ एउटी स्त्रीसँग दशवटा चाँदीका...   \n",
       "1  START_TOKEN ती दुष्ट मानिसहरू हिंस्रक सिंहहरू ...   \n",
       "2  START_TOKEN प्रक्रिया दृश्य क्रम स्तम्भ END_TOKEN   \n",
       "3  START_TOKEN जहा ट्याबहरु देखाइन सकिन्थ्यो वा स...   \n",
       "4  START_TOKEN अनुष्ठान अनुसार जहां केटि र महिलाह...   \n",
       "\n",
       "                                             English  \n",
       "0  or what woman if she had ten drachma coins if ...  \n",
       "1  he is like a lion that is greedy of his prey a...  \n",
       "2                           process view sort column  \n",
       "3        whether tooltips should be shown on widgets  \n",
       "4  ritual servitude where girls and women are ple...  "
      ]
     },
     "execution_count": 7,
     "metadata": {},
     "output_type": "execute_result"
    }
   ],
   "source": [
    "data = pd.read_csv(\"./cleaned_data.csv\")\n",
    "data.head()"
   ]
  },
  {
   "cell_type": "code",
   "execution_count": 8,
   "metadata": {},
   "outputs": [
    {
     "name": "stdout",
     "output_type": "stream",
     "text": [
      "The shape of the training data is: (144216,) (144216,)\n",
      "The shape of the trest data is: (16025,) (16025,)\n"
     ]
    }
   ],
   "source": [
    "x = data[\"English\"]\n",
    "y = data[\"Nepali\"]\n",
    "\n",
    "x_train, x_test, y_train, y_test = train_test_split(x, y, test_size = 0.1, random_state=42)\n",
    "\n",
    "print(\"The shape of the training data is:\", x_train.shape, y_train.shape)\n",
    "print(\"The shape of the trest data is:\", x_test.shape, y_test.shape)"
   ]
  },
  {
   "cell_type": "code",
   "execution_count": null,
   "metadata": {},
   "outputs": [],
   "source": []
  }
 ],
 "metadata": {
  "kernelspec": {
   "display_name": "Python 3.7 (Intel® oneAPI)",
   "language": "python",
   "name": "c009-intel_distribution_of_python_3_oneapi-beta05-python"
  },
  "language_info": {
   "codemirror_mode": {
    "name": "ipython",
    "version": 3
   },
   "file_extension": ".py",
   "mimetype": "text/x-python",
   "name": "python",
   "nbconvert_exporter": "python",
   "pygments_lexer": "ipython3",
   "version": "3.7.9"
  }
 },
 "nbformat": 4,
 "nbformat_minor": 4
}
